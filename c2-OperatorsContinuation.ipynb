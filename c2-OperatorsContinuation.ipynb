{
 "cells": [
  {
   "cell_type": "markdown",
   "id": "e7472ae9",
   "metadata": {},
   "source": [
    "# Python Assignment Statements"
   ]
  },
  {
   "cell_type": "code",
   "execution_count": 1,
   "id": "7a0f8a64",
   "metadata": {},
   "outputs": [
    {
     "data": {
      "text/plain": [
       "40"
      ]
     },
     "execution_count": 1,
     "metadata": {},
     "output_type": "execute_result"
    }
   ],
   "source": [
    "spam = 40\n",
    "spam"
   ]
  },
  {
   "cell_type": "code",
   "execution_count": 2,
   "id": "f0ffdbaa",
   "metadata": {},
   "outputs": [
    {
     "data": {
      "text/plain": [
       "44"
      ]
     },
     "execution_count": 2,
     "metadata": {},
     "output_type": "execute_result"
    }
   ],
   "source": [
    "eggs = 4\n",
    "spam + eggs"
   ]
  },
  {
   "cell_type": "code",
   "execution_count": 3,
   "id": "864d5bc2",
   "metadata": {},
   "outputs": [
    {
     "data": {
      "text/plain": [
       "84"
      ]
     },
     "execution_count": 3,
     "metadata": {},
     "output_type": "execute_result"
    }
   ],
   "source": [
    "spam + eggs + spam"
   ]
  },
  {
   "cell_type": "code",
   "execution_count": 5,
   "id": "78b96be1",
   "metadata": {},
   "outputs": [
    {
     "data": {
      "text/plain": [
       "44"
      ]
     },
     "execution_count": 5,
     "metadata": {},
     "output_type": "execute_result"
    }
   ],
   "source": [
    "spam = spam+2\n",
    "spam"
   ]
  },
  {
   "cell_type": "code",
   "execution_count": 6,
   "id": "1831c1b2",
   "metadata": {},
   "outputs": [
    {
     "data": {
      "text/plain": [
       "12"
      ]
     },
     "execution_count": 6,
     "metadata": {},
     "output_type": "execute_result"
    }
   ],
   "source": [
    "yolo = 9\n",
    "yolo+=3 #yolo = yolo + 3 = 9+3=12\n",
    "yolo"
   ]
  },
  {
   "cell_type": "code",
   "execution_count": 7,
   "id": "5432d04c",
   "metadata": {},
   "outputs": [
    {
     "data": {
      "text/plain": [
       "9"
      ]
     },
     "execution_count": 7,
     "metadata": {},
     "output_type": "execute_result"
    }
   ],
   "source": [
    "yolo-=3\n",
    "yolo"
   ]
  },
  {
   "cell_type": "code",
   "execution_count": 9,
   "id": "7b12b9e1",
   "metadata": {},
   "outputs": [
    {
     "data": {
      "text/plain": [
       "9"
      ]
     },
     "execution_count": 9,
     "metadata": {},
     "output_type": "execute_result"
    }
   ],
   "source": [
    "uu=3\n",
    "uu*=3\n",
    "uu"
   ]
  },
  {
   "cell_type": "code",
   "execution_count": 10,
   "id": "55104ff2",
   "metadata": {},
   "outputs": [
    {
     "data": {
      "text/plain": [
       "3.0"
      ]
     },
     "execution_count": 10,
     "metadata": {},
     "output_type": "execute_result"
    }
   ],
   "source": [
    "uu/=3\n",
    "uu"
   ]
  },
  {
   "cell_type": "code",
   "execution_count": 11,
   "id": "75bc363b",
   "metadata": {},
   "outputs": [
    {
     "data": {
      "text/plain": [
       "0"
      ]
     },
     "execution_count": 11,
     "metadata": {},
     "output_type": "execute_result"
    }
   ],
   "source": [
    "x=33\n",
    "x%=3 # x = x%3 = 33%3 =0\n",
    "x"
   ]
  },
  {
   "cell_type": "code",
   "execution_count": 12,
   "id": "b60f89b5",
   "metadata": {},
   "outputs": [
    {
     "data": {
      "text/plain": [
       "15"
      ]
     },
     "execution_count": 12,
     "metadata": {},
     "output_type": "execute_result"
    }
   ],
   "source": [
    "ff = 31\n",
    "ff//=2\n",
    "ff"
   ]
  },
  {
   "cell_type": "code",
   "execution_count": 13,
   "id": "3ba501d6",
   "metadata": {},
   "outputs": [
    {
     "data": {
      "text/plain": [
       "1024"
      ]
     },
     "execution_count": 13,
     "metadata": {},
     "output_type": "execute_result"
    }
   ],
   "source": [
    "nos = 2\n",
    "nos**=10\n",
    "nos"
   ]
  },
  {
   "cell_type": "code",
   "execution_count": 14,
   "id": "415cb31e",
   "metadata": {},
   "outputs": [
    {
     "data": {
      "text/plain": [
       "2"
      ]
     },
     "execution_count": 14,
     "metadata": {},
     "output_type": "execute_result"
    }
   ],
   "source": [
    "cc = 30\n",
    "cc&= 3\n",
    "cc\n"
   ]
  },
  {
   "cell_type": "code",
   "execution_count": 15,
   "id": "fcaeaa6e",
   "metadata": {},
   "outputs": [
    {
     "data": {
      "text/plain": [
       "7"
      ]
     },
     "execution_count": 15,
     "metadata": {},
     "output_type": "execute_result"
    }
   ],
   "source": [
    "x = 5 \n",
    "x |= 3\n",
    "x"
   ]
  },
  {
   "cell_type": "code",
   "execution_count": 16,
   "id": "c6a6d609",
   "metadata": {},
   "outputs": [
    {
     "data": {
      "text/plain": [
       "10"
      ]
     },
     "execution_count": 16,
     "metadata": {},
     "output_type": "execute_result"
    }
   ],
   "source": [
    "will= 9\n",
    "will = will^3\n",
    "will"
   ]
  },
  {
   "cell_type": "code",
   "execution_count": 81,
   "id": "abdf5b18",
   "metadata": {},
   "outputs": [
    {
     "ename": "SyntaxError",
     "evalue": "invalid syntax (2797004905.py, line 1)",
     "output_type": "error",
     "traceback": [
      "\u001b[0;36m  Cell \u001b[0;32mIn[81], line 1\u001b[0;36m\u001b[0m\n\u001b[0;31m    char op = operatorStack.pop();\u001b[0m\n\u001b[0m         ^\u001b[0m\n\u001b[0;31mSyntaxError\u001b[0m\u001b[0;31m:\u001b[0m invalid syntax\n"
     ]
    }
   ],
   "source": [
    "char op = operatorStack.pop();\n",
    "int op1 = operandStack.pop();\n",
    "int op2 = operandStack.pop();\n",
    "if (op == '+')\n",
    "operandStack.push(op2 + op1);\n",
    "else if (op == '-')\n",
    "operandStack.push(op2 - op1);\n",
    "else if (op == '*')\n",
    "operandStack.push(op2 * op1);"
   ]
  },
  {
   "cell_type": "code",
   "execution_count": 2,
   "id": "99b791b1",
   "metadata": {},
   "outputs": [
    {
     "name": "stdout",
     "output_type": "stream",
     "text": [
      "Before Swapping\n",
      "a : 20\n",
      "b : 35\n",
      "After Swapping\n",
      "a : 35\n",
      "b : 20\n"
     ]
    }
   ],
   "source": [
    "#swap two numbers\n",
    "a = 20\n",
    "b = 35\n",
    "print(\"Before Swapping\")\n",
    "print(\"a :\",a)\n",
    "print(\"b :\",b)\n",
    "temp = a\n",
    "a = b\n",
    "b = temp\n",
    "print(\"After Swapping\")\n",
    "print(\"a :\",a)\n",
    "print(\"b :\",b)"
   ]
  },
  {
   "cell_type": "code",
   "execution_count": 7,
   "id": "a11834b3",
   "metadata": {},
   "outputs": [
    {
     "name": "stdout",
     "output_type": "stream",
     "text": [
      "34\n"
     ]
    }
   ],
   "source": [
    "jim = 33\n",
    "if jim>40:\n",
    "    jim-=1\n",
    "else:\n",
    "    jim+=1\n",
    "    \n",
    "print(jim)"
   ]
  },
  {
   "cell_type": "code",
   "execution_count": 8,
   "id": "82e562c1",
   "metadata": {},
   "outputs": [
    {
     "data": {
      "text/plain": [
       "1.0"
      ]
     },
     "execution_count": 8,
     "metadata": {},
     "output_type": "execute_result"
    }
   ],
   "source": [
    "hope = 2.25\n",
    "hope //=2\n",
    "hope"
   ]
  },
  {
   "cell_type": "code",
   "execution_count": 11,
   "id": "6e6e2861",
   "metadata": {},
   "outputs": [
    {
     "name": "stdout",
     "output_type": "stream",
     "text": [
      "410.8488\n"
     ]
    },
    {
     "data": {
      "text/plain": [
       "True"
      ]
     },
     "execution_count": 11,
     "metadata": {},
     "output_type": "execute_result"
    }
   ],
   "source": [
    "dib = 15.36\n",
    "nib = 21.33\n",
    "hib = 85.22\n",
    "res = dib*nib+hib-2\n",
    "print(res)\n",
    "type(res)==type(dib)\n"
   ]
  },
  {
   "cell_type": "markdown",
   "id": "071cff2f",
   "metadata": {},
   "source": [
    "# Python Comparison Operators"
   ]
  },
  {
   "cell_type": "code",
   "execution_count": 19,
   "id": "d030e9eb",
   "metadata": {},
   "outputs": [
    {
     "name": "stdout",
     "output_type": "stream",
     "text": [
      "not equal\n",
      "large is greater than big\n",
      "large is greater and equal to big\n"
     ]
    }
   ],
   "source": [
    "big = 101\n",
    "large = 1001\n",
    "if big == large:\n",
    "    print( \"something equal\")\n",
    "if big != large:\n",
    "    print(\"not equal\")\n",
    "if big>large:\n",
    "    print(\"big is greater than large\")\n",
    "if big<large:\n",
    "    print(\"large is greater than big\")\n",
    "if big>=large:\n",
    "    print(\"big is greater and equal to large\")\n",
    "if big<=large:\n",
    "    print(\"large is greater and equal to big\")"
   ]
  },
  {
   "cell_type": "code",
   "execution_count": 26,
   "id": "95ce9d29",
   "metadata": {},
   "outputs": [
    {
     "name": "stdout",
     "output_type": "stream",
     "text": [
      "33 is found in the array index of  4\n"
     ]
    }
   ],
   "source": [
    "arr=[50,10,60,3,33,25]\n",
    "find = 33\n",
    "for i in range(len(arr)):\n",
    "    if arr[i]==find:\n",
    "        print(find,\"is found in the array index of \",i)      "
   ]
  },
  {
   "cell_type": "code",
   "execution_count": 27,
   "id": "463c55ea",
   "metadata": {},
   "outputs": [
    {
     "data": {
      "text/plain": [
       "False"
      ]
     },
     "execution_count": 27,
     "metadata": {},
     "output_type": "execute_result"
    }
   ],
   "source": [
    "'sujon' == 'jakir'"
   ]
  },
  {
   "cell_type": "code",
   "execution_count": 28,
   "id": "c73e7bda",
   "metadata": {},
   "outputs": [
    {
     "data": {
      "text/plain": [
       "False"
      ]
     },
     "execution_count": 28,
     "metadata": {},
     "output_type": "execute_result"
    }
   ],
   "source": [
    "'sujon' == 'snigdha'"
   ]
  },
  {
   "cell_type": "code",
   "execution_count": 35,
   "id": "4edcada9",
   "metadata": {},
   "outputs": [
    {
     "data": {
      "text/plain": [
       "False"
      ]
     },
     "execution_count": 35,
     "metadata": {},
     "output_type": "execute_result"
    }
   ],
   "source": [
    "'apple' > 'bananna'"
   ]
  },
  {
   "cell_type": "code",
   "execution_count": 30,
   "id": "624c40ca",
   "metadata": {},
   "outputs": [
    {
     "data": {
      "text/plain": [
       "True"
      ]
     },
     "execution_count": 30,
     "metadata": {},
     "output_type": "execute_result"
    }
   ],
   "source": [
    "'apple' < 'orange'"
   ]
  },
  {
   "cell_type": "code",
   "execution_count": 34,
   "id": "505627d3",
   "metadata": {},
   "outputs": [
    {
     "data": {
      "text/plain": [
       "True"
      ]
     },
     "execution_count": 34,
     "metadata": {},
     "output_type": "execute_result"
    }
   ],
   "source": [
    "'baba' < 'mama'"
   ]
  },
  {
   "cell_type": "code",
   "execution_count": 38,
   "id": "c434c4a6",
   "metadata": {},
   "outputs": [
    {
     "data": {
      "text/plain": [
       "True"
      ]
     },
     "execution_count": 38,
     "metadata": {},
     "output_type": "execute_result"
    }
   ],
   "source": [
    "'Bangladesh' < 'bangladesh'"
   ]
  },
  {
   "cell_type": "code",
   "execution_count": 43,
   "id": "8c222826",
   "metadata": {},
   "outputs": [
    {
     "data": {
      "text/plain": [
       "False"
      ]
     },
     "execution_count": 43,
     "metadata": {},
     "output_type": "execute_result"
    }
   ],
   "source": [
    "'abc' <= 'ABC'"
   ]
  },
  {
   "cell_type": "code",
   "execution_count": 44,
   "id": "ad14547e",
   "metadata": {},
   "outputs": [
    {
     "data": {
      "text/plain": [
       "False"
      ]
     },
     "execution_count": 44,
     "metadata": {},
     "output_type": "execute_result"
    }
   ],
   "source": [
    "left=30\n",
    "right=20\n",
    "left<=right"
   ]
  },
  {
   "cell_type": "code",
   "execution_count": 45,
   "id": "b059edfa",
   "metadata": {},
   "outputs": [
    {
     "data": {
      "text/plain": [
       "True"
      ]
     },
     "execution_count": 45,
     "metadata": {},
     "output_type": "execute_result"
    }
   ],
   "source": [
    "left>=right"
   ]
  },
  {
   "cell_type": "code",
   "execution_count": 46,
   "id": "686402f8",
   "metadata": {},
   "outputs": [
    {
     "data": {
      "text/plain": [
       "True"
      ]
     },
     "execution_count": 46,
     "metadata": {},
     "output_type": "execute_result"
    }
   ],
   "source": [
    "x=999\n",
    "z=898\n",
    "x!=z"
   ]
  },
  {
   "cell_type": "code",
   "execution_count": 22,
   "id": "ae1563b5",
   "metadata": {},
   "outputs": [
    {
     "name": "stdout",
     "output_type": "stream",
     "text": [
      "31 is not a prime number\n"
     ]
    }
   ],
   "source": [
    "#prime number yes or not\n",
    "num=31\n",
    "flag = False\n",
    "if num == 1:\n",
    "    print(num,\"is not a prime number\")\n",
    "elif num>1:\n",
    "    for i in range(2,num):\n",
    "        if (num%i) ==0:\n",
    "            flag = True\n",
    "            break\n",
    "if flag:\n",
    "    print(num,\"is a prime number\")\n",
    "else:\n",
    "    print(num,\"is not a prime number\")\n",
    "    \n",
    "            "
   ]
  },
  {
   "cell_type": "code",
   "execution_count": 26,
   "id": "91d80f61",
   "metadata": {},
   "outputs": [
    {
     "name": "stdout",
     "output_type": "stream",
     "text": [
      "396\n"
     ]
    }
   ],
   "source": [
    "ll = -33\n",
    "li = 12\n",
    "product = ll*li\n",
    "res= -1*product\n",
    "print(res)"
   ]
  },
  {
   "cell_type": "code",
   "execution_count": 29,
   "id": "64358159",
   "metadata": {},
   "outputs": [
    {
     "data": {
      "text/plain": [
       "False"
      ]
     },
     "execution_count": 29,
     "metadata": {},
     "output_type": "execute_result"
    }
   ],
   "source": [
    "kik = True\n",
    "if kik == False:\n",
    "    kik = True\n",
    "else:\n",
    "    kik = False\n",
    "kik    "
   ]
  },
  {
   "cell_type": "code",
   "execution_count": 32,
   "id": "50471491",
   "metadata": {},
   "outputs": [
    {
     "data": {
      "text/plain": [
       "2632"
      ]
     },
     "execution_count": 32,
     "metadata": {},
     "output_type": "execute_result"
    }
   ],
   "source": [
    "cat = 7897\n",
    "mat = 3\n",
    "floor = cat//mat\n",
    "floor"
   ]
  },
  {
   "cell_type": "code",
   "execution_count": 36,
   "id": "4e11aacc",
   "metadata": {},
   "outputs": [
    {
     "name": "stdout",
     "output_type": "stream",
     "text": [
      "22.22222222222222\n"
     ]
    },
    {
     "data": {
      "text/plain": [
       "22"
      ]
     },
     "execution_count": 36,
     "metadata": {},
     "output_type": "execute_result"
    }
   ],
   "source": [
    "seed = 40\n",
    "soil = 1.8\n",
    "contextures = seed/soil\n",
    "print(contextures)\n",
    "round(contextures)"
   ]
  },
  {
   "cell_type": "code",
   "execution_count": 37,
   "id": "ebc3cd6e",
   "metadata": {},
   "outputs": [
    {
     "name": "stdout",
     "output_type": "stream",
     "text": [
      "operation 'and'\n"
     ]
    }
   ],
   "source": [
    "off,on = 0,1\n",
    "if (off and on) == 0:\n",
    "    print(\"operation 'and'\")\n",
    "else:\n",
    "    print(\"operation 'or'\")\n"
   ]
  },
  {
   "cell_type": "code",
   "execution_count": 45,
   "id": "3a5fb471",
   "metadata": {},
   "outputs": [
    {
     "data": {
      "text/plain": [
       "'design design design design design design '"
      ]
     },
     "execution_count": 45,
     "metadata": {},
     "output_type": "execute_result"
    }
   ],
   "source": [
    "ulm = 3\n",
    "shape = \"design \"\n",
    "res = ulm*shape\n",
    "res*=2\n",
    "res"
   ]
  },
  {
   "cell_type": "markdown",
   "id": "8ffc4c2f",
   "metadata": {},
   "source": [
    "# Python Logical Operators\n",
    "and\n",
    "or \n",
    "not"
   ]
  },
  {
   "cell_type": "code",
   "execution_count": 49,
   "id": "6da62d34",
   "metadata": {},
   "outputs": [
    {
     "data": {
      "text/plain": [
       "10"
      ]
     },
     "execution_count": 49,
     "metadata": {},
     "output_type": "execute_result"
    }
   ],
   "source": [
    "a,b=2,10\n",
    "a and b"
   ]
  },
  {
   "cell_type": "code",
   "execution_count": 50,
   "id": "538ffebe",
   "metadata": {},
   "outputs": [
    {
     "data": {
      "text/plain": [
       "True"
      ]
     },
     "execution_count": 50,
     "metadata": {},
     "output_type": "execute_result"
    }
   ],
   "source": [
    "price = 9.99\n",
    "price > 9 and price < 10"
   ]
  },
  {
   "cell_type": "code",
   "execution_count": 51,
   "id": "2d352187",
   "metadata": {},
   "outputs": [
    {
     "data": {
      "text/plain": [
       "False"
      ]
     },
     "execution_count": 51,
     "metadata": {},
     "output_type": "execute_result"
    }
   ],
   "source": [
    "price > 10 and price < 20"
   ]
  },
  {
   "cell_type": "code",
   "execution_count": 52,
   "id": "50a7d156",
   "metadata": {},
   "outputs": [
    {
     "data": {
      "text/plain": [
       "True"
      ]
     },
     "execution_count": 52,
     "metadata": {},
     "output_type": "execute_result"
    }
   ],
   "source": [
    "price > 10 or price < 20"
   ]
  },
  {
   "cell_type": "code",
   "execution_count": 53,
   "id": "da4b4cd1",
   "metadata": {},
   "outputs": [
    {
     "data": {
      "text/plain": [
       "True"
      ]
     },
     "execution_count": 53,
     "metadata": {},
     "output_type": "execute_result"
    }
   ],
   "source": [
    "price < 10 or price < 20"
   ]
  },
  {
   "cell_type": "code",
   "execution_count": 57,
   "id": "d59e5392",
   "metadata": {},
   "outputs": [
    {
     "name": "stdout",
     "output_type": "stream",
     "text": [
      "1\n",
      "1\n",
      "1\n",
      "0\n"
     ]
    }
   ],
   "source": [
    "print(1 or 0)\n",
    "print(0 or 1)\n",
    "print(1 or 1)\n",
    "print(0 or 0)"
   ]
  },
  {
   "cell_type": "code",
   "execution_count": 59,
   "id": "fffb8d0b",
   "metadata": {},
   "outputs": [
    {
     "name": "stdout",
     "output_type": "stream",
     "text": [
      "0\n",
      "0\n",
      "0\n",
      "1\n"
     ]
    }
   ],
   "source": [
    "print(1 and 0)\n",
    "print(0 and 1)\n",
    "print(0 and 0)\n",
    "print(1 and 1)"
   ]
  },
  {
   "cell_type": "code",
   "execution_count": 60,
   "id": "958212c7",
   "metadata": {},
   "outputs": [
    {
     "data": {
      "text/plain": [
       "False"
      ]
     },
     "execution_count": 60,
     "metadata": {},
     "output_type": "execute_result"
    }
   ],
   "source": [
    "not (True or True)"
   ]
  },
  {
   "cell_type": "code",
   "execution_count": 61,
   "id": "eda3f544",
   "metadata": {},
   "outputs": [
    {
     "data": {
      "text/plain": [
       "True"
      ]
     },
     "execution_count": 61,
     "metadata": {},
     "output_type": "execute_result"
    }
   ],
   "source": [
    "not(False and True)"
   ]
  },
  {
   "cell_type": "markdown",
   "id": "4324cdb8",
   "metadata": {},
   "source": [
    "Operator        Precedence\n",
    "--------        ----------\n",
    "not             High\n",
    "and             Medium\n",
    "or              Low"
   ]
  },
  {
   "cell_type": "code",
   "execution_count": 63,
   "id": "8232359b",
   "metadata": {},
   "outputs": [
    {
     "data": {
      "text/plain": [
       "1"
      ]
     },
     "execution_count": 63,
     "metadata": {},
     "output_type": "execute_result"
    }
   ],
   "source": [
    "1 or 0 and 1 # 1 or (0 and 1) = 1 or 0 = 1"
   ]
  },
  {
   "cell_type": "code",
   "execution_count": 64,
   "id": "eefd7438",
   "metadata": {},
   "outputs": [
    {
     "name": "stdout",
     "output_type": "stream",
     "text": [
      "Sujon H jakir\n"
     ]
    }
   ],
   "source": [
    "f_name,m_name,l_name = \"Sujon\",\"H\",\"jakir\"\n",
    "print(f_name,m_name,l_name)"
   ]
  },
  {
   "cell_type": "code",
   "execution_count": 2,
   "id": "19c0ea6a",
   "metadata": {},
   "outputs": [
    {
     "name": "stdout",
     "output_type": "stream",
     "text": [
      "0\n",
      "1\n"
     ]
    }
   ],
   "source": [
    "logic = 1\n",
    "log = 0\n",
    "if logic == 1:\n",
    "    log = 0\n",
    "else:\n",
    "    logic = 1\n",
    "print(log)\n",
    "print(logic)"
   ]
  },
  {
   "cell_type": "code",
   "execution_count": 4,
   "id": "d90511ff",
   "metadata": {},
   "outputs": [
    {
     "name": "stdout",
     "output_type": "stream",
     "text": [
      "Not currect!\n"
     ]
    }
   ],
   "source": [
    "book = 92\n",
    "box = 20\n",
    "carry = book/box\n",
    "if carry%2 == 0:\n",
    "    print(\"Currect !\")\n",
    "else:\n",
    "    print(\"Not currect!\")"
   ]
  },
  {
   "cell_type": "code",
   "execution_count": 6,
   "id": "2ba25f83",
   "metadata": {},
   "outputs": [
    {
     "data": {
      "text/plain": [
       "'This is how we can get good new think This is how we can get good new think This is how we can get good new think '"
      ]
     },
     "execution_count": 6,
     "metadata": {},
     "output_type": "execute_result"
    }
   ],
   "source": [
    "how = \"This is how we can get good new think \"\n",
    "how*=3\n",
    "how"
   ]
  },
  {
   "cell_type": "code",
   "execution_count": 8,
   "id": "0b3a3809",
   "metadata": {},
   "outputs": [
    {
     "name": "stdout",
     "output_type": "stream",
     "text": [
      "You are eligible to attend the exam\n"
     ]
    }
   ],
   "source": [
    "age = 22\n",
    "mark = 92\n",
    "if age>20 or mark>92:\n",
    "    print(\"You are eligible to attend the exam\")\n",
    "else:\n",
    "    print(\"You are not eligible to attend the exam\")"
   ]
  },
  {
   "cell_type": "code",
   "execution_count": 11,
   "id": "945b1ac1",
   "metadata": {},
   "outputs": [
    {
     "name": "stdout",
     "output_type": "stream",
     "text": [
      "Continue?y\n",
      "continuing\n",
      "ERROR\n"
     ]
    }
   ],
   "source": [
    "answer = input(\"Continue?\")\n",
    "if answer=='Y' or answer=='y':\n",
    "    print(\"continuing\")\n",
    "if answer=='N' or answer=='n':\n",
    "    print(\"stop\")\n",
    "else:\n",
    "    print(\"ERROR\")"
   ]
  },
  {
   "cell_type": "code",
   "execution_count": 12,
   "id": "3a6d6be9",
   "metadata": {},
   "outputs": [
    {
     "name": "stdout",
     "output_type": "stream",
     "text": [
      "Enter total weight of luggage:52\n",
      "Number of pieces of luggage?10\n",
      "Luggage check complete.\n"
     ]
    }
   ],
   "source": [
    "total_weight = int(input('Enter total weight of luggage:'))\n",
    "num_pieces = int(input('Number of pieces of luggage?'))\n",
    "\n",
    "if total_weight / num_pieces > 50:\n",
    "   print('Average weight is greater than 50 pounds -> $100 surcharge.')\n",
    "\n",
    "print('Luggage check complete.')\n"
   ]
  },
  {
   "cell_type": "code",
   "execution_count": 13,
   "id": "4def65b5",
   "metadata": {},
   "outputs": [
    {
     "name": "stdout",
     "output_type": "stream",
     "text": [
      "Enter Yes or No:Yes\n",
      "Yes!\n"
     ]
    }
   ],
   "source": [
    "yesno = input('Enter Yes or No:')\n",
    "if len(yesno) > 0:\n",
    "   if yesno[0] == 'Y':\n",
    "      print('Yes!')"
   ]
  },
  {
   "cell_type": "code",
   "execution_count": null,
   "id": "613ea676",
   "metadata": {},
   "outputs": [],
   "source": [
    "if len(yesno) > 0 or yesno[0] == 'Y':\n",
    "   print('Yes!')"
   ]
  },
  {
   "cell_type": "code",
   "execution_count": 14,
   "id": "ed67bae0",
   "metadata": {},
   "outputs": [
    {
     "data": {
      "text/plain": [
       "True"
      ]
     },
     "execution_count": 14,
     "metadata": {},
     "output_type": "execute_result"
    }
   ],
   "source": [
    "(14*24*60*60) > 100000"
   ]
  },
  {
   "cell_type": "markdown",
   "id": "cb0642c6",
   "metadata": {},
   "source": [
    "# Identity operators\n",
    "is      -> '=='\n",
    "is not  -> '!='"
   ]
  },
  {
   "cell_type": "code",
   "execution_count": 72,
   "id": "e2647428",
   "metadata": {},
   "outputs": [
    {
     "data": {
      "text/plain": [
       "False"
      ]
     },
     "execution_count": 72,
     "metadata": {},
     "output_type": "execute_result"
    }
   ],
   "source": [
    "a = 100\n",
    "b = 10*10\n",
    "a is not b"
   ]
  },
  {
   "cell_type": "code",
   "execution_count": 73,
   "id": "3cf93792",
   "metadata": {},
   "outputs": [
    {
     "data": {
      "text/plain": [
       "False"
      ]
     },
     "execution_count": 73,
     "metadata": {},
     "output_type": "execute_result"
    }
   ],
   "source": [
    "not(a is b)"
   ]
  },
  {
   "cell_type": "code",
   "execution_count": 77,
   "id": "42716ba4",
   "metadata": {},
   "outputs": [
    {
     "data": {
      "text/plain": [
       "True"
      ]
     },
     "execution_count": 77,
     "metadata": {},
     "output_type": "execute_result"
    }
   ],
   "source": [
    "yy = 420\n",
    "xx = 10*(40+20)\n",
    "yy is not xx"
   ]
  },
  {
   "cell_type": "code",
   "execution_count": 80,
   "id": "0be1fafe",
   "metadata": {},
   "outputs": [
    {
     "data": {
      "text/plain": [
       "False"
      ]
     },
     "execution_count": 80,
     "metadata": {},
     "output_type": "execute_result"
    }
   ],
   "source": [
    "country = 'Bangladesh'\n",
    "country1 = 'Bangladesh'\n",
    "country is not country1"
   ]
  },
  {
   "cell_type": "code",
   "execution_count": 85,
   "id": "ae248a0a",
   "metadata": {},
   "outputs": [
    {
     "name": "stdout",
     "output_type": "stream",
     "text": [
      "True\n",
      "False\n"
     ]
    }
   ],
   "source": [
    "x = [\"apple\", \"banana\"]\n",
    "y = [\"apple\", \"banana\"]\n",
    "z = x\n",
    "print(x is not y)\n",
    "print(z is y)"
   ]
  },
  {
   "cell_type": "code",
   "execution_count": 87,
   "id": "38ba5ab7",
   "metadata": {},
   "outputs": [
    {
     "name": "stdout",
     "output_type": "stream",
     "text": [
      "True\n"
     ]
    }
   ],
   "source": [
    "print(x == z)"
   ]
  },
  {
   "cell_type": "code",
   "execution_count": 15,
   "id": "2fd7af54",
   "metadata": {},
   "outputs": [
    {
     "name": "stdout",
     "output_type": "stream",
     "text": [
      "x is y\n",
      "x is not z\n",
      "y is not z\n"
     ]
    }
   ],
   "source": [
    "x = '101'\n",
    "y = '101'\n",
    "z = '102'\n",
    "if (x is y):\n",
    "  print ('x is y')\n",
    "else:\n",
    "  print ('x is not y')\n",
    "if (x is z):\n",
    "  print('x is z')\n",
    "else:\n",
    "  print ('x is not z')\n",
    "if (y is z):\n",
    "  print('y is z')\n",
    "else:\n",
    "  print ('y is not z')"
   ]
  },
  {
   "cell_type": "code",
   "execution_count": 16,
   "id": "d84b672f",
   "metadata": {},
   "outputs": [
    {
     "name": "stdout",
     "output_type": "stream",
     "text": [
      "x not y\n",
      "x is not z\n",
      "y is not z\n"
     ]
    }
   ],
   "source": [
    "x = '101'\n",
    "y = '101'\n",
    "z = '102'\n",
    "if (x is not y):\n",
    "  print ('x is not y')\n",
    "else:\n",
    "  print ('x not y')\n",
    "if (x is not z):\n",
    "  print ('x is not z')\n",
    "else:\n",
    "  print ('x is z')\n",
    "if (y is not z):\n",
    "  print ('y is not z')\n",
    "else:\n",
    "  print ('y is z')\n"
   ]
  },
  {
   "cell_type": "code",
   "execution_count": 19,
   "id": "82e9aaa8",
   "metadata": {},
   "outputs": [
    {
     "data": {
      "text/plain": [
       "False"
      ]
     },
     "execution_count": 19,
     "metadata": {},
     "output_type": "execute_result"
    }
   ],
   "source": [
    "a=15\n",
    "b=15\n",
    "c=\"apple\"\n",
    "d=\"apple\"\n",
    "e=[1,2,3]\n",
    "f=[1,2,3]\n",
    "x=a is b     # output of x is True\n",
    "y=c is d     # output of y is True\n",
    "z=e is f     # output of z is False\n",
    "z"
   ]
  },
  {
   "cell_type": "markdown",
   "id": "747cae7a",
   "metadata": {},
   "source": [
    "# Python Membership Operators\n",
    "\n",
    "There are 2 types of membership operators in Python and they are:\n",
    "in\n",
    "not in"
   ]
  },
  {
   "cell_type": "code",
   "execution_count": 21,
   "id": "33f8f010",
   "metadata": {},
   "outputs": [
    {
     "name": "stdout",
     "output_type": "stream",
     "text": [
      "True\n",
      "False\n"
     ]
    }
   ],
   "source": [
    "a=\"I am learning Python\"\n",
    "b={1:'apple',2:'ball'}      # it is a dictionary where 1 is key and apple is its value\n",
    "x=\"Python\" in a             # output of x is True\n",
    "y=3 in b     \n",
    "\n",
    "print(x)\n",
    "print(y)"
   ]
  },
  {
   "cell_type": "code",
   "execution_count": 22,
   "id": "b6032bf7",
   "metadata": {},
   "outputs": [
    {
     "name": "stdout",
     "output_type": "stream",
     "text": [
      "True\n"
     ]
    }
   ],
   "source": [
    "item = 29\n",
    "list_1 = list(range(1, 30))\n",
    "print(item in list_1)"
   ]
  },
  {
   "cell_type": "code",
   "execution_count": 23,
   "id": "60346dea",
   "metadata": {},
   "outputs": [
    {
     "name": "stdout",
     "output_type": "stream",
     "text": [
      "True\n"
     ]
    }
   ],
   "source": [
    "a = \"neloy\"\n",
    "list_1 = ['neloy', 'roman', 'mohammod']\n",
    "print(a in list_1)"
   ]
  },
  {
   "cell_type": "code",
   "execution_count": 24,
   "id": "ed9513dd",
   "metadata": {},
   "outputs": [
    {
     "name": "stdout",
     "output_type": "stream",
     "text": [
      "True\n",
      "False\n"
     ]
    }
   ],
   "source": [
    "print('z' not in 'Hello')\n",
    "print('S' not in 'School')\n"
   ]
  },
  {
   "cell_type": "code",
   "execution_count": 26,
   "id": "29e3f785",
   "metadata": {},
   "outputs": [
    {
     "name": "stdout",
     "output_type": "stream",
     "text": [
      "False\n",
      "True\n"
     ]
    }
   ],
   "source": [
    "print(4 in {0, 15, 25})\n",
    "print('the' in {'Spiderman', 'is','the', 'best'})"
   ]
  },
  {
   "cell_type": "code",
   "execution_count": 27,
   "id": "52058775",
   "metadata": {},
   "outputs": [
    {
     "name": "stdout",
     "output_type": "stream",
     "text": [
      "True\n"
     ]
    }
   ],
   "source": [
    "a = 'School'\n",
    "print(type(a) is str)"
   ]
  },
  {
   "cell_type": "code",
   "execution_count": 28,
   "id": "8e349005",
   "metadata": {},
   "outputs": [
    {
     "name": "stdout",
     "output_type": "stream",
     "text": [
      "False\n"
     ]
    }
   ],
   "source": [
    "avangers = [\"iron-man\",\"thor\",\"spider-man\",\"hulk\",\"captain-america\"]\n",
    "print('ant-man' in avangers)"
   ]
  },
  {
   "cell_type": "code",
   "execution_count": 29,
   "id": "34e580a1",
   "metadata": {},
   "outputs": [
    {
     "name": "stdout",
     "output_type": "stream",
     "text": [
      "True\n"
     ]
    }
   ],
   "source": [
    "num = [10, 20, 30, 40, 50 ];\n",
    "print(10*5 in num)"
   ]
  },
  {
   "cell_type": "code",
   "execution_count": 30,
   "id": "b8e8fcc1",
   "metadata": {},
   "outputs": [
    {
     "name": "stdout",
     "output_type": "stream",
     "text": [
      "not overlapping\n"
     ]
    }
   ],
   "source": [
    "list1=[0,2,4,6,8]\n",
    "list2=[1,3,5,7,9]\n",
    "#Initially we assign 0 to not overlapping\n",
    "check=0\n",
    "\n",
    "for item in list1:\n",
    "    if item in list2:\n",
    "        #Overlapping true so check is assigned 1\n",
    "        check=1\n",
    "        \n",
    "          \n",
    "if check==1:\n",
    "    print(\"overlapping\")\n",
    "else:\n",
    "    print(\"not overlapping\")"
   ]
  },
  {
   "cell_type": "code",
   "execution_count": 31,
   "id": "e290d54f",
   "metadata": {},
   "outputs": [
    {
     "name": "stdout",
     "output_type": "stream",
     "text": [
      "a is in given list\n",
      "b is NOT present in given list\n"
     ]
    }
   ],
   "source": [
    "a = 70\n",
    "b = 20\n",
    "list = [10, 30, 50, 70, 90 ];\n",
    "\n",
    "if ( a not in list ):\n",
    " print(\"a is NOT in given list\")\n",
    "else:\n",
    " print(\"a is in given list\")\n",
    "\n",
    "if ( b not in list ):\n",
    " print(\"b is NOT present in given list\")\n",
    "else:\n",
    "  print(\"b is in given list\")"
   ]
  },
  {
   "cell_type": "code",
   "execution_count": 32,
   "id": "4e24c43c",
   "metadata": {},
   "outputs": [
    {
     "name": "stdout",
     "output_type": "stream",
     "text": [
      "true\n"
     ]
    }
   ],
   "source": [
    "x = 'Educative'\n",
    "if (type(x) is str):\n",
    "    print(\"true\")\n",
    "else:\n",
    "    print(\"false\")"
   ]
  },
  {
   "cell_type": "code",
   "execution_count": 33,
   "id": "a810c8f7",
   "metadata": {},
   "outputs": [
    {
     "name": "stdout",
     "output_type": "stream",
     "text": [
      "false\n"
     ]
    }
   ],
   "source": [
    "x = 6.3\n",
    "if (type(x) is not float):\n",
    "    print(\"true\")\n",
    "else:\n",
    "    print(\"false\")"
   ]
  }
 ],
 "metadata": {
  "kernelspec": {
   "display_name": "Python 3 (ipykernel)",
   "language": "python",
   "name": "python3"
  },
  "language_info": {
   "codemirror_mode": {
    "name": "ipython",
    "version": 3
   },
   "file_extension": ".py",
   "mimetype": "text/x-python",
   "name": "python",
   "nbconvert_exporter": "python",
   "pygments_lexer": "ipython3",
   "version": "3.10.9"
  }
 },
 "nbformat": 4,
 "nbformat_minor": 5
}
