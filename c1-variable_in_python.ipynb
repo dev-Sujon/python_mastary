{
 "cells": [
  {
   "cell_type": "markdown",
   "id": "05f5f7ed",
   "metadata": {},
   "source": [
    "Python is a multi tasking programing language such as\n",
    "\n",
    "Ai,python,development,website,website developer,cloud,\n",
    "Data analysis\n",
    "\n",
    "python - easiest - small code,syntex,libraries\n",
    "\n",
    "active cell color is green\n",
    "deactive cell color is blue"
   ]
  },
  {
   "cell_type": "code",
   "execution_count": 7,
   "id": "59b656c3",
   "metadata": {},
   "outputs": [
    {
     "data": {
      "text/plain": [
       "10"
      ]
     },
     "execution_count": 7,
     "metadata": {},
     "output_type": "execute_result"
    }
   ],
   "source": [
    "#add\n",
    "2+6+2"
   ]
  },
  {
   "cell_type": "code",
   "execution_count": 8,
   "id": "14af7e84",
   "metadata": {},
   "outputs": [
    {
     "data": {
      "text/plain": [
       "-14"
      ]
     },
     "execution_count": 8,
     "metadata": {},
     "output_type": "execute_result"
    }
   ],
   "source": [
    "#sub\n",
    "-11-3"
   ]
  },
  {
   "cell_type": "code",
   "execution_count": 9,
   "id": "801d67c0",
   "metadata": {},
   "outputs": [
    {
     "data": {
      "text/plain": [
       "144430"
      ]
     },
     "execution_count": 9,
     "metadata": {},
     "output_type": "execute_result"
    }
   ],
   "source": [
    "#multiplication\n",
    "6565*22"
   ]
  },
  {
   "cell_type": "code",
   "execution_count": 10,
   "id": "0a7fdd1b",
   "metadata": {},
   "outputs": [
    {
     "name": "stdout",
     "output_type": "stream",
     "text": [
      "This is a class that we will be hope can measure\n"
     ]
    }
   ],
   "source": [
    "print('This is a class that we will be hope can measure')"
   ]
  },
  {
   "cell_type": "code",
   "execution_count": 11,
   "id": "a476d44c",
   "metadata": {},
   "outputs": [
    {
     "name": "stdout",
     "output_type": "stream",
     "text": [
      "0\n",
      "1\n",
      "2\n",
      "4\n",
      "8\n"
     ]
    }
   ],
   "source": [
    "a = 0\n",
    "b = 1\n",
    "while a < 10:\n",
    "    print(a)\n",
    "    a = b\n",
    "    b = a + b\n",
    "    "
   ]
  },
  {
   "cell_type": "code",
   "execution_count": 24,
   "id": "75cba659",
   "metadata": {},
   "outputs": [
    {
     "name": "stdout",
     "output_type": "stream",
     "text": [
      "1 2 3 5 8 13 21 34 55 89 "
     ]
    }
   ],
   "source": [
    "def fibb(n):\n",
    "    if n<1:\n",
    "        return 1\n",
    "    else:\n",
    "       return fibb(n-1)+fibb(n-2)\n",
    "n = 10\n",
    "fibblist = []\n",
    "total=0\n",
    "fibb(n)\n",
    "\n",
    "for i in range(n):\n",
    "    print(fibb(i),end=\" \")\n",
    "    fibblist.append(fibb(i))\n",
    "    \n",
    "    total = total+fibblist[i]\n",
    "\n",
    "    "
   ]
  },
  {
   "cell_type": "code",
   "execution_count": 25,
   "id": "3648aa02",
   "metadata": {},
   "outputs": [
    {
     "data": {
      "text/plain": [
       "2.25"
      ]
     },
     "execution_count": 25,
     "metadata": {},
     "output_type": "execute_result"
    }
   ],
   "source": [
    "#division\n",
    "9/4"
   ]
  },
  {
   "cell_type": "code",
   "execution_count": 27,
   "id": "9b6eabb2",
   "metadata": {},
   "outputs": [
    {
     "data": {
      "text/plain": [
       "4"
      ]
     },
     "execution_count": 27,
     "metadata": {},
     "output_type": "execute_result"
    }
   ],
   "source": [
    "#float division\n",
    "9//2"
   ]
  },
  {
   "cell_type": "code",
   "execution_count": 30,
   "id": "a5d26699",
   "metadata": {},
   "outputs": [
    {
     "data": {
      "text/plain": [
       "4.5"
      ]
     },
     "execution_count": 30,
     "metadata": {},
     "output_type": "execute_result"
    }
   ],
   "source": [
    "9/2\n"
   ]
  },
  {
   "cell_type": "code",
   "execution_count": 31,
   "id": "2648c346",
   "metadata": {},
   "outputs": [
    {
     "data": {
      "text/plain": [
       "4"
      ]
     },
     "execution_count": 31,
     "metadata": {},
     "output_type": "execute_result"
    }
   ],
   "source": [
    "9//2"
   ]
  },
  {
   "cell_type": "code",
   "execution_count": 36,
   "id": "bfb399c0",
   "metadata": {},
   "outputs": [
    {
     "data": {
      "text/plain": [
       "3.6666666666666665"
      ]
     },
     "execution_count": 36,
     "metadata": {},
     "output_type": "execute_result"
    }
   ],
   "source": [
    "11/3"
   ]
  },
  {
   "cell_type": "code",
   "execution_count": 37,
   "id": "f0685fec",
   "metadata": {},
   "outputs": [
    {
     "data": {
      "text/plain": [
       "3.6666666666666665"
      ]
     },
     "execution_count": 37,
     "metadata": {},
     "output_type": "execute_result"
    }
   ],
   "source": [
    "11/3"
   ]
  },
  {
   "cell_type": "code",
   "execution_count": 39,
   "id": "0c8ceb9c",
   "metadata": {},
   "outputs": [
    {
     "data": {
      "text/plain": [
       "1"
      ]
     },
     "execution_count": 39,
     "metadata": {},
     "output_type": "execute_result"
    }
   ],
   "source": [
    "11//3//2"
   ]
  },
  {
   "cell_type": "code",
   "execution_count": 40,
   "id": "a7a07419",
   "metadata": {},
   "outputs": [
    {
     "data": {
      "text/plain": [
       "3.3333333333333335"
      ]
     },
     "execution_count": 40,
     "metadata": {},
     "output_type": "execute_result"
    }
   ],
   "source": [
    "10/3"
   ]
  },
  {
   "cell_type": "code",
   "execution_count": 41,
   "id": "c2c8c020",
   "metadata": {},
   "outputs": [
    {
     "data": {
      "text/plain": [
       "1"
      ]
     },
     "execution_count": 41,
     "metadata": {},
     "output_type": "execute_result"
    }
   ],
   "source": [
    "#remainder\n",
    "10%3"
   ]
  },
  {
   "cell_type": "code",
   "execution_count": 42,
   "id": "f6433886",
   "metadata": {},
   "outputs": [
    {
     "data": {
      "text/plain": [
       "1024"
      ]
     },
     "execution_count": 42,
     "metadata": {},
     "output_type": "execute_result"
    }
   ],
   "source": [
    "#power\n",
    "2**10"
   ]
  },
  {
   "cell_type": "code",
   "execution_count": 2,
   "id": "d37de2fc",
   "metadata": {},
   "outputs": [
    {
     "data": {
      "text/plain": [
       "'milk'"
      ]
     },
     "execution_count": 2,
     "metadata": {},
     "output_type": "execute_result"
    }
   ],
   "source": [
    "glass = \"milk\"\n",
    "glass"
   ]
  },
  {
   "cell_type": "code",
   "execution_count": 3,
   "id": "1cd116f3",
   "metadata": {},
   "outputs": [
    {
     "ename": "SyntaxError",
     "evalue": "invalid decimal literal (963885893.py, line 1)",
     "output_type": "error",
     "traceback": [
      "\u001b[0;36m  Cell \u001b[0;32mIn[3], line 1\u001b[0;36m\u001b[0m\n\u001b[0;31m    1core = \"not allowd\"\u001b[0m\n\u001b[0m    ^\u001b[0m\n\u001b[0;31mSyntaxError\u001b[0m\u001b[0;31m:\u001b[0m invalid decimal literal\n"
     ]
    }
   ],
   "source": [
    "1core = \"not allowd\""
   ]
  },
  {
   "cell_type": "code",
   "execution_count": 5,
   "id": "a7342470",
   "metadata": {},
   "outputs": [
    {
     "data": {
      "text/plain": [
       "2.3365222"
      ]
     },
     "execution_count": 5,
     "metadata": {},
     "output_type": "execute_result"
    }
   ],
   "source": [
    "fibb = 2.3365222\n",
    "fibb"
   ]
  },
  {
   "cell_type": "code",
   "execution_count": null,
   "id": "e14d3539",
   "metadata": {},
   "outputs": [],
   "source": []
  }
 ],
 "metadata": {
  "kernelspec": {
   "display_name": "Python 3 (ipykernel)",
   "language": "python",
   "name": "python3"
  },
  "language_info": {
   "codemirror_mode": {
    "name": "ipython",
    "version": 3
   },
   "file_extension": ".py",
   "mimetype": "text/x-python",
   "name": "python",
   "nbconvert_exporter": "python",
   "pygments_lexer": "ipython3",
   "version": "3.10.9"
  }
 },
 "nbformat": 4,
 "nbformat_minor": 5
}
